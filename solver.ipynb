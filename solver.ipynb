{
 "cells": [
  {
   "cell_type": "code",
   "execution_count": null,
   "id": "77d546ce",
   "metadata": {
    "vscode": {
     "languageId": "plaintext"
    }
   },
   "outputs": [],
   "source": [
    "!pip install numpy==1.26.4 eagerpy foolbox tensorflow==2.17.0\n",
    "!git clone https://github.com/qlero/ctf.mt_adversarial_atk_attempt.git\n"
   ]
  },
  {
   "cell_type": "code",
   "execution_count": null,
   "id": "6935d3b1",
   "metadata": {
    "vscode": {
     "languageId": "plaintext"
    }
   },
   "outputs": [],
   "source": [
    "import tensorflow as tf\n",
    "import keras\n",
    "import eagerpy as ep\n",
    "from foolbox import TensorFlowModel, accuracy\n",
    "from foolbox.attacks import L2CarliniWagnerAttack, LinfPGD, L2DeepFoolAttack, LinfinityBrendelBethgeAttack, L2BrendelBethgeAttack, SparseL1DescentAttack\n",
    "from foolbox.criteria import TargetedMisclassification\n",
    "from PIL import Image\n",
    "import numpy as np\n",
    "import os\n",
    "import time\n",
    "import argparse"
   ]
  },
  {
   "cell_type": "code",
   "execution_count": null,
   "id": "f56a7776",
   "metadata": {
    "vscode": {
     "languageId": "plaintext"
    }
   },
   "outputs": [],
   "source": [
    "with open(\"ctf.mt_adversarial_atk_attempt/model/classes.txt\", \"r\") as f:\n",
    "  x = f.readlines()\n",
    "  x = [i.strip() for i in x]\n",
    "\n",
    "for f in x:\n",
    "  if f == \"flag\":\n",
    "      f = \"z_flag\"\n",
    "  if not os.path.exists(\"ctf.mt_adversarial_atk_attempt/dataset/\"+f):\n",
    "    os.makedirs(\"ctf.mt_adversarial_atk_attempt/dataset/\"+f)"
   ]
  },
  {
   "cell_type": "code",
   "execution_count": null,
   "id": "adcf3dec",
   "metadata": {
    "vscode": {
     "languageId": "plaintext"
    }
   },
   "outputs": [],
   "source": [
    "# GLOBALS\n",
    "\n",
    "start = time.time()\n",
    "\n",
    "BOUNDS = (-1, 1)\n",
    "PREPROCESSING = dict()\n",
    "ATTACK_NAME = \"L2CarliniWagnerAttack\" # L2DeepFoolAttack #LinfPGD #L2CarliniWagnerAttack #L2BrendelBethgeAttack #LinfinityBrendelBethgeAttack, #SparseL1DescentAttack\n",
    "# EPSILONS = np.linspace(0.02, 0.05, num=20) #for #LinfPGD\n",
    "# ERROR WITH LinfinityBrendelBethgeAttack\n",
    "# ERROR WITH L2BrendelBethgeAttack\n",
    "# ERROR WITH L2BrendelBethgeAttack\n",
    "# No convergence SparseL1DescentAttack\n",
    "# No convergence L2DeepFoolAttack\n",
    "EPSILONS = np.linspace(0.01, 2, num=10)\n",
    "# EPSILONS = [0.0, 0.0002, 0.0005, 0.0008, 0.001, 0.0015, 0.002, 0.003, 0.01, 0.1, 0.3, 0.5, 1.0,]\n",
    "SAVE_PATH = \"ctf.mt_adversarial_atk_attempt/adversarial_examples\"\n",
    "\n",
    "# FUNCTIONS\n",
    "\n",
    "def load_model(bounds, preprocessing):\n",
    "    model = keras.models.load_model(\"./model/mt_classifier_ft_0.h5\")\n",
    "    model.summary()\n",
    "    model = TensorFlowModel(model, bounds=bounds, preprocessing=preprocessing)\n",
    "    return model"
   ]
  },
  {
   "cell_type": "code",
   "execution_count": null,
   "id": "1d1a075d",
   "metadata": {
    "vscode": {
     "languageId": "plaintext"
    }
   },
   "outputs": [],
   "source": [
    "try:\n",
    "    print(\"Num GPUs Available: \", len(tf.config.list_physical_devices('GPU')))\n",
    "    gpus = tf.config.list_physical_devices('GPU')\n",
    "    gpus[0].name\n",
    "    device = \"/device:GPU:0\"\n",
    "except:\n",
    "    device = \"/device:CPU:0\"\n",
    "\n",
    "try:\n",
    "    os.remove(\"ctf.mt_adversarial_atk_attempt/dataset/.ipynb_checkpoints\")\n",
    "except:\n",
    "    print(\"no file to delete\")\n",
    "len(os.listdir(\"ctf.mt_adversarial_atk_attempt/dataset\"))\n",
    "\n",
    "start = time.time()\n",
    "\n",
    "print(f\"[INFO] Running on device: {device}\")\n",
    "with tf.device(device):\n",
    "\n",
    "    #loads model\n",
    "    model = load_model(BOUNDS, PREPROCESSING)\n",
    "\n",
    "    print(\"\\n\"*3)\n",
    "\n",
    "    #loads data\n",
    "    data = tf.keras.utils.image_dataset_from_directory(\n",
    "        \"ctf.mt_adversarial_atk_attempt/dataset\", \n",
    "        validation_split=0, \n",
    "        seed=123, \n",
    "        image_size=(224, 224), \n",
    "        batch_size=1\n",
    "    )\n",
    "    for image_batch, label_batch in data:\n",
    "        image, label = ep.astensors(image_batch, label_batch)\n",
    "        image = (image-127.5) / 255 * 2\n",
    "\n",
    "    print(\"\\n\"*3)\n",
    "\n",
    "    #tests inference\n",
    "    pred = model(image)\n",
    "    shape = pred.shape\n",
    "    prediction = pred.argmax(1)\n",
    "    print(f\"[INFO] OG image -- output size {shape}, output label: {prediction}\")\n",
    "    if prediction != 55:\n",
    "        raise ValueError(\"[ERROR] Wrong inference on normal image\")\n",
    "    \n",
    "    print(\"\\n\"*3)\n",
    "\n",
    "    #runs an attack\n",
    "    criterion = TargetedMisclassification(np.array([data.class_names.index(\"z_flag\")]))\n",
    "    print(criterion)\n",
    "    print(\"[INFO] Running the attack\")\n",
    "    if ATTACK_NAME == \"LinfPGD\":\n",
    "        attack = LinfPGD(rel_stepsize=0.001, steps=200)\n",
    "    elif ATTACK_NAME == \"L2CarliniWagnerAttack\":\n",
    "        attack = L2CarliniWagnerAttack(steps=10000, stepsize=1e-3, confidence=0)\n",
    "    elif ATTACK_NAME == \"LinfinityBrendelBethgeAttack\":\n",
    "        attack = LinfinityBrendelBethgeAttack()\n",
    "    elif ATTACK_NAME == \"L2BrendelBethgeAttack\":\n",
    "        attack = L2BrendelBethgeAttack()\n",
    "    elif ATTACK_NAME == \"SparseL1DescentAttack\":\n",
    "        attack = SparseL1DescentAttack()\n",
    "    elif ATTACK_NAME == \"L2DeepFoolAttack\":\n",
    "        attack = L2DeepFoolAttack()\n",
    "    else:\n",
    "        raise ValueError(\"[ERROR] wrong <ATTACK_NAME> provided\")\n",
    "    \n",
    "    raw_advs, clipped_advs, success = attack(model, image, criterion, epsilons=EPSILONS)\n",
    "\n",
    "    print(\"\\n\"*3)\n",
    "\n",
    "    #checks results\n",
    "    print(\"[INFO] Checking results\")\n",
    "    robust_accuracy = 1 - success.float32().mean(axis=-1)\n",
    "    print(\"[INFO] robust accuracy for perturbations with\")\n",
    "    for eps, acc in zip(EPSILONS, robust_accuracy):\n",
    "        print(f\"  Linf norm ≤ {eps:<6}: {acc.item() * 100:4.1f} %\")\n",
    "\n",
    "    # we can also manually check this\n",
    "    # we will use the clipped advs instead of the raw advs, otherwise\n",
    "    # we would need to check if the perturbation sizes are actually\n",
    "    # within the specified epsilon bound\n",
    "    print(\"[INFO] robust accuracy for perturbations with\")\n",
    "    for eps, advs_ in zip(EPSILONS, clipped_advs):\n",
    "        acc2 = accuracy(model, advs_, label)\n",
    "        print(f\"  Linf norm ≤ {eps:<6}: {acc2 * 100:4.1f} %\")\n",
    "        print(\"    perturbation sizes:\")\n",
    "        perturbation_sizes = (advs_ - image).norms.linf(axis=(1, 2, 3)).numpy()\n",
    "        print(\"    \", str(perturbation_sizes).replace(\"\\n\", \"\\n\" + \"    \"))\n",
    "        if acc2 == 0:\n",
    "            break\n",
    "\n",
    "    print(\"\\n\"*3)      \n",
    "\n",
    "    for i, img in enumerate(clipped_advs):\n",
    "        pred = model(img)\n",
    "        shape = pred.shape\n",
    "        prediction = pred.argmax(1)\n",
    "        print(f\"[INFO] Adv. attack (+save) @ eps {EPSILONS[i]:.4f} -- input shape: \" + \\\n",
    "                f\"{img.shape}, output size {shape}, output label: {prediction}\")\n",
    "        if prediction == 101:\n",
    "            img = ((img + 1)/2 * 255).numpy().clip(0, 255).astype(np.uint8)\n",
    "            img = Image.fromarray(img[0])\n",
    "            img.save(f\"{SAVE_PATH}/{ATTACK_NAME}_eps{EPSILONS[i]:4f}_target{prediction}.png\")\n",
    "            img.save(f\"{SAVE_PATH}/{ATTACK_NAME}_eps{EPSILONS[i]:4f}_target{prediction}.tiff\")\n",
    "\n",
    "    for i, img in enumerate(clipped_advs):\n",
    "        pred = model(img)\n",
    "        shape = pred.shape\n",
    "        prediction = pred.argmax(1)\n",
    "        print(f\"[INFO] Raw adv. attack (+save) @ eps {EPSILONS[i]:.4f} -- input shape: \" + \\\n",
    "                f\"{img.shape}, output size {shape}, output label: {prediction}\")\n",
    "        if prediction == 101:\n",
    "            img = ((img + 1)/2 * 255).numpy().clip(0, 255).astype(np.uint8)\n",
    "            img = Image.fromarray(img[0])\n",
    "            img.save(f\"{SAVE_PATH}/{ATTACK_NAME}_raw_eps{EPSILONS[i]:4f}_target{prediction}.png\")\n",
    "            img.save(f\"{SAVE_PATH}/{ATTACK_NAME}_raw_eps{EPSILONS[i]:4f}_target{prediction}.tiff\")\n",
    "\n",
    "end = time.time()\n",
    "\n",
    "print(\"\\n\"*3)\n",
    "\n",
    "print(f\"[INFO] Took {end - start}seconds\")"
   ]
  }
 ],
 "metadata": {
  "language_info": {
   "name": "python"
  }
 },
 "nbformat": 4,
 "nbformat_minor": 5
}
